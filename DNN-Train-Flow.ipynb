{
 "cells": [
  {
   "cell_type": "markdown",
   "metadata": {},
   "source": [
    "# Our big picture"
   ]
  },
  {
   "cell_type": "markdown",
   "metadata": {},
   "source": [
    "![The Big Picture](figure/big-picture.png)"
   ]
  },
  {
   "cell_type": "markdown",
   "metadata": {},
   "source": [
    "# The Workflow implementation so far"
   ]
  },
  {
   "cell_type": "markdown",
   "metadata": {},
   "source": [
    "![title](figure/workflow-demo.jpeg)"
   ]
  },
  {
   "cell_type": "code",
   "execution_count": 3,
   "metadata": {},
   "outputs": [],
   "source": [
    "import time, json, sys, os\n",
    "from globus_automate_client import create_flows_client\n",
    "from funcx.sdk.client import FuncXClient\n",
    "from DNNTFlow import t3flow_def"
   ]
  },
  {
   "cell_type": "code",
   "execution_count": 4,
   "metadata": {},
   "outputs": [],
   "source": [
    "fxc = FuncXClient()"
   ]
  },
  {
   "cell_type": "markdown",
   "metadata": {},
   "source": [
    "## Step 0, a sanitary check of the funcX service on the AI system\n",
    "We run a simple funcX function to check the funcX service on AI system"
   ]
  },
  {
   "cell_type": "code",
   "execution_count": 5,
   "metadata": {},
   "outputs": [
    {
     "name": "stdout",
     "output_type": "stream",
     "text": [
      "function UUID is: 3b5d7542-d8b3-4e89-b1b6-e15bf7b4f5a5\n"
     ]
    }
   ],
   "source": [
    "def hello_world():\n",
    "    import platform\n",
    "    return platform.uname()\n",
    "\n",
    "func_uuid = fxc.register_function(hello_world)\n",
    "print('function UUID is: %s' % func_uuid)"
   ]
  },
  {
   "cell_type": "code",
   "execution_count": 6,
   "metadata": {},
   "outputs": [],
   "source": [
    "# Note, this endpoint ID is obtained after initialize your own funcx-endpoint on the system \n",
    "# This is an example, it must be replaced with your own as this is not a shared endpoint\n",
    "aisys_funcx_ep = '367491b0-41dc-4fa7-9421-414a0b34e2e7'\n",
    "res = fxc.run(endpoint_id=aisys_funcx_ep, function_id=func_uuid)"
   ]
  },
  {
   "cell_type": "code",
   "execution_count": 7,
   "metadata": {},
   "outputs": [
    {
     "name": "stdout",
     "output_type": "stream",
     "text": [
      "Exception: Task is pending due to waiting-for-ep\n",
      "uname_result(system='Linux', node='lambda8', release='5.4.0-80-generic', version='#90-Ubuntu SMP Fri Jul 9 22:49:44 UTC 2021', machine='x86_64', processor='x86_64')\n"
     ]
    }
   ],
   "source": [
    "while True:\n",
    "    try:\n",
    "        x = fxc.get_result(res)\n",
    "        print(x)\n",
    "        break\n",
    "    except Exception as e:\n",
    "        print(\"Exception: {}\".format(e))\n",
    "        time.sleep(3)"
   ]
  },
  {
   "cell_type": "code",
   "execution_count": null,
   "metadata": {},
   "outputs": [],
   "source": []
  },
  {
   "cell_type": "markdown",
   "metadata": {},
   "source": [
    "## Step 1, Create a funcX function to launch the training via system call"
   ]
  },
  {
   "cell_type": "code",
   "execution_count": 8,
   "metadata": {},
   "outputs": [],
   "source": [
    "def trun_mdl_train(args):\n",
    "    cmd_aug = args['cmd'].split('#')\n",
    "    import subprocess, os\n",
    "    os.chdir('/data/shared/zliu/BraggNN/') # switch to the working directory, example!\n",
    "    result = subprocess.run(cmd_aug, stdout=subprocess.PIPE)\n",
    "    return result.stdout.decode('utf-8')\n",
    "    \n",
    "# register the function to funcX service and obtain the function ID as workflow argument\n",
    "shell_funcX = fxc.register_function(trun_mdl_train)"
   ]
  },
  {
   "cell_type": "code",
   "execution_count": null,
   "metadata": {},
   "outputs": [],
   "source": []
  },
  {
   "cell_type": "markdown",
   "metadata": {},
   "source": [
    "## Step 2, Build and deploy the workflow to Globus Automate service, once built, it can be run as many times as needed with different data and configuration/argument"
   ]
  },
  {
   "cell_type": "code",
   "execution_count": 9,
   "metadata": {},
   "outputs": [],
   "source": [
    "flows_client = create_flows_client()\n",
    "flow = flows_client.deploy_flow(t3flow_def, input_schema={}, title=\"BraggNN training Workflow using remote AI system\")\n",
    "flow_id = flow['id']\n",
    "flow_scope = flow['globus_auth_scope']"
   ]
  },
  {
   "cell_type": "code",
   "execution_count": null,
   "metadata": {},
   "outputs": [],
   "source": []
  },
  {
   "cell_type": "markdown",
   "metadata": {},
   "source": [
    "## Step 3, Define a set of auguments to run an instance of the workflow"
   ]
  },
  {
   "cell_type": "code",
   "execution_count": 10,
   "metadata": {},
   "outputs": [],
   "source": [
    "## Note that all values here are examples, they must be supplied based on your own setup\n",
    "\n",
    "# these must to a point of your own\n",
    "data_endpoint = 'aa4fcdaf-6d04-11e5-ba46-22000b92c6ec' # Globus endpoint ID that host the training dataset, e.g., SLAC\n",
    "comp_endpoint = '5b66ac62-042a-11eb-8930-0a5521ff3f4b' # Globus endpoint ID for the AI system, e.g., an AI system at ALCF\n",
    "dest_endpoint = '302abb02-af25-11e9-9393-02ff96a5aa76' # Globus endpoint ID for model destination, e.g., the edge host machine at SLAC\n",
    "\n",
    "data_path = '/zliu/hedm' # the path of the training dataset\n",
    "comp_path = '/data/shared/zliu/BraggNN/dataset'    # a temp place on AI system to save data\n",
    "mdl_path  = '/data/shared/zliu/BraggNN/'           # a temp place on AI system to save model\n",
    "dest_path = '/Users/zliu/Documents/gcp-ep/BraggNN/model' # a place to save the model\n",
    "\n",
    "# a sample shell command splitted using \"#\"\n",
    "train_cmd = 'horovodrun#-np#8#python#main-hvd.py'\n",
    "\n",
    "# supply all arguments to the workflow\n",
    "flow_input = {\n",
    "    \"input\": {\n",
    "        \"data_endpoint\": data_endpoint,\n",
    "        \"data_path\": data_path,\n",
    "        \"comp_endpoint\":comp_endpoint,\n",
    "        \"comp_path\":comp_path,\n",
    "        \"mdl_path\":mdl_path,\n",
    "        \"dest_endpoint\": dest_endpoint,\n",
    "        \"dest_path\": dest_path,\n",
    "        \"result_path\": '/tmp/zliu',\n",
    "        \"fx_ep\": aisys_funcx_ep,\n",
    "        \"fx_id\": shell_funcX,\n",
    "        \"params\": {'cmd': train_cmd,}\n",
    "    }\n",
    "}"
   ]
  },
  {
   "cell_type": "code",
   "execution_count": null,
   "metadata": {},
   "outputs": [],
   "source": []
  },
  {
   "cell_type": "markdown",
   "metadata": {},
   "source": [
    "## Step 4, run the workflow, fire and forget"
   ]
  },
  {
   "cell_type": "code",
   "execution_count": 10,
   "metadata": {},
   "outputs": [
    {
     "name": "stdout",
     "output_type": "stream",
     "text": [
      "Starting login with Globus Auth, press ^C to cancel.\n",
      "Flow action started with id: d386b63d-26d2-41b7-bdb7-61f54c60127e\n",
      "[1617402976.939321] Flow status: ACTIVE\n",
      "[1617402982.945178] Flow status: ACTIVE\n",
      "[1617402988.783828] Flow status: ACTIVE\n",
      "[1617402994.574173] Flow status: ACTIVE\n",
      "[1617403000.558295] Flow status: ACTIVE\n",
      "[1617403006.499208] Flow status: ACTIVE\n",
      "[1617403012.8425422] Flow status: ACTIVE\n",
      "[1617403018.5992918] Flow status: ACTIVE\n",
      "[1617403024.568869] Flow status: ACTIVE\n",
      "[1617403030.753729] Flow status: ACTIVE\n",
      "[1617403036.788411] Flow status: ACTIVE\n",
      "[1617403042.6457229] Flow status: ACTIVE\n",
      "[1617403048.692362] Flow status: ACTIVE\n",
      "[1617403054.47262] Flow status: ACTIVE\n",
      "[1617403060.286417] Flow status: ACTIVE\n",
      "[1617403066.408673] Flow status: ACTIVE\n",
      "[1617403072.239617] Flow status: ACTIVE\n",
      "[1617403078.178251] Flow status: ACTIVE\n",
      "[1617403084.2199051] Flow status: ACTIVE\n",
      "[1617403090.277707] Flow status: ACTIVE\n",
      "[1617403096.407212] Flow status: ACTIVE\n",
      "[1617403102.345149] Flow status: ACTIVE\n",
      "[1617403108.360311] Flow status: ACTIVE\n",
      "[1617403114.121494] Flow status: ACTIVE\n",
      "[1617403120.096071] Flow status: ACTIVE\n",
      "[1617403125.999507] Flow status: ACTIVE\n",
      "[1617403131.838764] Flow status: ACTIVE\n",
      "[1617403137.780468] Flow status: ACTIVE\n",
      "[1617403143.497691] Flow status: ACTIVE\n",
      "[1617403149.5387242] Flow status: ACTIVE\n",
      "[1617403155.5935738] Flow status: ACTIVE\n",
      "[1617403161.635454] Flow status: ACTIVE\n",
      "[1617403167.463765] Flow status: ACTIVE\n",
      "[1617403173.308701] Flow status: ACTIVE\n",
      "[1617403179.10932] Flow status: ACTIVE\n",
      "[1617403185.043762] Flow status: ACTIVE\n",
      "[1617403191.126173] Flow status: ACTIVE\n",
      "[1617403197.039745] Flow status: ACTIVE\n",
      "[1617403203.52251] Flow status: ACTIVE\n",
      "[1617403209.599915] Flow status: ACTIVE\n",
      "[1617403215.703817] Flow status: ACTIVE\n",
      "[1617403221.64257] Flow status: ACTIVE\n",
      "[1617403227.653846] Flow status: ACTIVE\n",
      "[1617403233.583446] Flow status: ACTIVE\n",
      "[1617403239.465097] Flow status: ACTIVE\n",
      "[1617403245.501468] Flow status: SUCCEEDED\n"
     ]
    }
   ],
   "source": [
    "flow_action = flows_client.run_flow(flow_id, flow_scope, flow_input)\n",
    "\n",
    "print('Flow action started with id: %s' % flow_action['action_id'])\n",
    "\n",
    "flow_status = flow_action['status']\n",
    "while flow_status == 'ACTIVE':\n",
    "    time.sleep(5)\n",
    "    flow_action = flows_client.flow_action_status(flow_id, flow_scope, flow_action['action_id'])\n",
    "    flow_status = flow_action['status']\n",
    "    print(f'[{time.time()}] Flow status: {flow_status}')"
   ]
  },
  {
   "cell_type": "code",
   "execution_count": null,
   "metadata": {},
   "outputs": [],
   "source": []
  }
 ],
 "metadata": {
  "kernelspec": {
   "display_name": "Python 3",
   "language": "python",
   "name": "python3"
  },
  "language_info": {
   "codemirror_mode": {
    "name": "ipython",
    "version": 3
   },
   "file_extension": ".py",
   "mimetype": "text/x-python",
   "name": "python",
   "nbconvert_exporter": "python",
   "pygments_lexer": "ipython3",
   "version": "3.8.5"
  }
 },
 "nbformat": 4,
 "nbformat_minor": 4
}
